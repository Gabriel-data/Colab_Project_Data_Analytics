{
  "nbformat": 4,
  "nbformat_minor": 0,
  "metadata": {
    "colab": {
      "provenance": [],
      "collapsed_sections": [
        "MWajnQkIvXHj",
        "arw2WRYN1gL_",
        "MWnQ6Y9n6_wY",
        "4rs8bsSPBXEm",
        "Du3Hv7bCY7Da",
        "Xptb4V0oews5",
        "nwal9Qn9foZS",
        "Yc9A4rUAlWMp",
        "j3AWgWK5qcnr",
        "c3wbmy5rrnmF",
        "byEQWLRQ5BbF",
        "PBEzaWgNDyap",
        "BaguDWjDG5l3",
        "_6XJs717MhB8"
      ],
      "mount_file_id": "1s5xkFO9-ZyW88gWdzwBqWv6lLroPeDR7",
      "authorship_tag": "ABX9TyPpaWGs9E8G2GNHY0KRpcCF",
      "include_colab_link": true
    },
    "kernelspec": {
      "name": "python3",
      "display_name": "Python 3"
    },
    "language_info": {
      "name": "python"
    }
  },
  "cells": [
    {
      "cell_type": "markdown",
      "metadata": {
        "id": "view-in-github",
        "colab_type": "text"
      },
      "source": [
        "<a href=\"https://colab.research.google.com/github/Gabriel-data/Colab/blob/main/curso_estatistica_de_dados_com_python.ipynb\" target=\"_parent\"><img src=\"https://colab.research.google.com/assets/colab-badge.svg\" alt=\"Open In Colab\"/></a>"
      ]
    },
    {
      "cell_type": "markdown",
      "source": [
        "# 1 INTRODUÇÃO Ling Python\n"
      ],
      "metadata": {
        "id": "MWajnQkIvXHj"
      }
    },
    {
      "cell_type": "code",
      "source": [
        "# IMPORTAÇÃO PCTO PANDAS\n",
        "import pandas as pd"
      ],
      "metadata": {
        "id": "IUtlUE3m0aAa"
      },
      "execution_count": null,
      "outputs": []
    },
    {
      "cell_type": "code",
      "source": [
        "mensagem = 'Olá Mundo!'"
      ],
      "metadata": {
        "id": "YeI9VzFGx8Uf"
      },
      "execution_count": null,
      "outputs": []
    },
    {
      "cell_type": "code",
      "source": [
        "display(mensagem)"
      ],
      "metadata": {
        "colab": {
          "base_uri": "https://localhost:8080/",
          "height": 35
        },
        "id": "7OqqwJXczvWh",
        "outputId": "54b87917-fc24-4ddb-fdf8-ba3fdd6c6583"
      },
      "execution_count": null,
      "outputs": [
        {
          "output_type": "display_data",
          "data": {
            "text/plain": [
              "'Olá Mundo!'"
            ],
            "application/vnd.google.colaboratory.intrinsic+json": {
              "type": "string"
            }
          },
          "metadata": {}
        }
      ]
    },
    {
      "cell_type": "code",
      "source": [
        "mensagem"
      ],
      "metadata": {
        "colab": {
          "base_uri": "https://localhost:8080/",
          "height": 35
        },
        "id": "3AmEbtTozHVC",
        "outputId": "104bb96b-e7d3-4f07-89bd-b226ab713853"
      },
      "execution_count": null,
      "outputs": [
        {
          "output_type": "execute_result",
          "data": {
            "text/plain": [
              "'Olá Mundo!'"
            ],
            "application/vnd.google.colaboratory.intrinsic+json": {
              "type": "string"
            }
          },
          "metadata": {},
          "execution_count": 4
        }
      ]
    },
    {
      "cell_type": "code",
      "source": [
        "nome = input ('Qual é o seu nome?')"
      ],
      "metadata": {
        "colab": {
          "base_uri": "https://localhost:8080/"
        },
        "id": "vaBZ2p281ZdK",
        "outputId": "272644e7-22a3-4e96-fcc5-f274549a7c98"
      },
      "execution_count": null,
      "outputs": [
        {
          "name": "stdout",
          "output_type": "stream",
          "text": [
            "Qual é o seu nome?Gab\n"
          ]
        }
      ]
    },
    {
      "cell_type": "markdown",
      "source": [
        "# **Operadores Matemáticos**"
      ],
      "metadata": {
        "id": "arw2WRYN1gL_"
      }
    },
    {
      "cell_type": "code",
      "source": [
        "n1 = 7"
      ],
      "metadata": {
        "id": "uzMD3PmB2jbR"
      },
      "execution_count": null,
      "outputs": []
    },
    {
      "cell_type": "code",
      "source": [
        "n2 = 2"
      ],
      "metadata": {
        "id": "OfD-PaVfv6Fc"
      },
      "execution_count": null,
      "outputs": []
    },
    {
      "cell_type": "code",
      "source": [
        "# Soma\n",
        "\n",
        "s = n1 + n2\n",
        "print(s)"
      ],
      "metadata": {
        "id": "JLD5pbthv74n",
        "colab": {
          "base_uri": "https://localhost:8080/"
        },
        "outputId": "3cd85532-8ae4-47db-e2b5-8a5c29300be3"
      },
      "execution_count": null,
      "outputs": [
        {
          "output_type": "stream",
          "name": "stdout",
          "text": [
            "9\n"
          ]
        }
      ]
    },
    {
      "cell_type": "code",
      "source": [
        "s = s + n1\n",
        "print(s)"
      ],
      "metadata": {
        "colab": {
          "base_uri": "https://localhost:8080/"
        },
        "id": "9t_VAFk53ZgZ",
        "outputId": "6633ee01-bb54-44e0-a786-2f52123996d8"
      },
      "execution_count": null,
      "outputs": [
        {
          "output_type": "stream",
          "name": "stdout",
          "text": [
            "16\n"
          ]
        }
      ]
    },
    {
      "cell_type": "code",
      "source": [
        "# Soma a própria variável \"S\"\n",
        "s += n1\n",
        "print(s)"
      ],
      "metadata": {
        "colab": {
          "base_uri": "https://localhost:8080/"
        },
        "id": "wUGzFZ_G3iWw",
        "outputId": "14b807b2-0f49-4391-a397-e8dfcadb1459"
      },
      "execution_count": null,
      "outputs": [
        {
          "output_type": "stream",
          "name": "stdout",
          "text": [
            "23\n"
          ]
        }
      ]
    },
    {
      "cell_type": "code",
      "source": [
        "s += n1\n",
        "s"
      ],
      "metadata": {
        "colab": {
          "base_uri": "https://localhost:8080/"
        },
        "id": "GXA7XpU831OZ",
        "outputId": "790674fe-43ae-4c4c-f780-8d2e356a9236"
      },
      "execution_count": null,
      "outputs": [
        {
          "output_type": "execute_result",
          "data": {
            "text/plain": [
              "30"
            ]
          },
          "metadata": {},
          "execution_count": 11
        }
      ]
    },
    {
      "cell_type": "code",
      "source": [
        "# Multiplicação\n",
        "\n",
        "multi = n1 * n2\n",
        "multi"
      ],
      "metadata": {
        "colab": {
          "base_uri": "https://localhost:8080/"
        },
        "id": "vEykCMcJ4SIg",
        "outputId": "3ad7780d-7672-44a9-f022-a300a94a1a8f"
      },
      "execution_count": null,
      "outputs": [
        {
          "output_type": "execute_result",
          "data": {
            "text/plain": [
              "14"
            ]
          },
          "metadata": {},
          "execution_count": 12
        }
      ]
    },
    {
      "cell_type": "code",
      "source": [
        "# Divisão 1-2 Normal\n",
        "div = n1 / n2\n",
        "div"
      ],
      "metadata": {
        "colab": {
          "base_uri": "https://localhost:8080/"
        },
        "id": "NSFh5B0t4fJQ",
        "outputId": "7087f339-fb43-4929-ae53-09102816047b"
      },
      "execution_count": null,
      "outputs": [
        {
          "output_type": "execute_result",
          "data": {
            "text/plain": [
              "3.5"
            ]
          },
          "metadata": {},
          "execution_count": 13
        }
      ]
    },
    {
      "cell_type": "code",
      "source": [
        "# Divisão 1-3 Inteiro //\n",
        "divi = n1 // n2\n",
        "divi"
      ],
      "metadata": {
        "colab": {
          "base_uri": "https://localhost:8080/"
        },
        "id": "3HNvee9T5fUP",
        "outputId": "86cabd4b-8b46-4c27-d0cf-764b54d30cea"
      },
      "execution_count": null,
      "outputs": [
        {
          "output_type": "execute_result",
          "data": {
            "text/plain": [
              "3"
            ]
          },
          "metadata": {},
          "execution_count": 14
        }
      ]
    },
    {
      "cell_type": "code",
      "source": [
        "# Divisão Fracao %\n",
        "rest = n1 % n2\n",
        "rest"
      ],
      "metadata": {
        "colab": {
          "base_uri": "https://localhost:8080/"
        },
        "id": "NyLb1rNh5pPn",
        "outputId": "0696a753-005a-4dad-e3cc-6e9628bc03db"
      },
      "execution_count": null,
      "outputs": [
        {
          "output_type": "execute_result",
          "data": {
            "text/plain": [
              "1"
            ]
          },
          "metadata": {},
          "execution_count": 15
        }
      ]
    },
    {
      "cell_type": "code",
      "source": [
        "# Potenciação\n",
        "\n",
        "pot = n1 ** n2  # 7 X 7 = 49\n",
        "pot"
      ],
      "metadata": {
        "colab": {
          "base_uri": "https://localhost:8080/"
        },
        "id": "lKbahmNk4bNw",
        "outputId": "1a27408e-beb5-4721-8241-9b7e216b5984"
      },
      "execution_count": null,
      "outputs": [
        {
          "output_type": "execute_result",
          "data": {
            "text/plain": [
              "49"
            ]
          },
          "metadata": {},
          "execution_count": 16
        }
      ]
    },
    {
      "cell_type": "code",
      "source": [
        "# Potênciação usando Função  \"pow\"\n",
        "pot2 = pow (n1, n2)\n",
        "pot2"
      ],
      "metadata": {
        "colab": {
          "base_uri": "https://localhost:8080/"
        },
        "id": "6phGueWW5HUI",
        "outputId": "57f33a0e-cb2e-4314-c2f2-0cd7e686c2ce"
      },
      "execution_count": null,
      "outputs": [
        {
          "output_type": "execute_result",
          "data": {
            "text/plain": [
              "49"
            ]
          },
          "metadata": {},
          "execution_count": 17
        }
      ]
    },
    {
      "cell_type": "markdown",
      "source": [
        "# Importação de bibliotecas (pacotes) e módulos"
      ],
      "metadata": {
        "id": "MWnQ6Y9n6_wY"
      }
    },
    {
      "cell_type": "code",
      "source": [
        "import numpy as np"
      ],
      "metadata": {
        "id": "N3PV2XeN7XHf"
      },
      "execution_count": null,
      "outputs": []
    },
    {
      "cell_type": "markdown",
      "source": [
        "https://numpy.org/doc/stable/user/whatisnumpy.html"
      ],
      "metadata": {
        "id": "8-_xSEj98HHz"
      }
    },
    {
      "cell_type": "code",
      "source": [
        "# Módulo para Raiz Quadrada  / math / funções matem.\n",
        "\n",
        "import math"
      ],
      "metadata": {
        "id": "5qF6cV5-72V_"
      },
      "execution_count": null,
      "outputs": []
    },
    {
      "cell_type": "markdown",
      "source": [
        "https://docs.python.org/pt-br/3/library/math.html"
      ],
      "metadata": {
        "id": "CEsSyUfF87Ln"
      }
    },
    {
      "cell_type": "code",
      "source": [
        "n3 = 18"
      ],
      "metadata": {
        "id": "dexwQe1X9BqW"
      },
      "execution_count": null,
      "outputs": []
    },
    {
      "cell_type": "code",
      "source": [
        "raiz = math.sqrt(n3)\n",
        "print(raiz)"
      ],
      "metadata": {
        "colab": {
          "base_uri": "https://localhost:8080/"
        },
        "id": "Wa2EDsNF9OFW",
        "outputId": "97c8fa2a-fb07-4801-cc1d-d6ef78da8a5d"
      },
      "execution_count": null,
      "outputs": [
        {
          "output_type": "stream",
          "name": "stdout",
          "text": [
            "4.242640687119285\n"
          ]
        }
      ]
    },
    {
      "cell_type": "code",
      "source": [
        "print ('A raiz de {} é igual a {:.2f}'.format (n3, raiz))"
      ],
      "metadata": {
        "colab": {
          "base_uri": "https://localhost:8080/"
        },
        "id": "4QqcGqqm90l-",
        "outputId": "5862d6aa-8de6-4360-d3fc-7bfd70bd7811"
      },
      "execution_count": null,
      "outputs": [
        {
          "output_type": "stream",
          "name": "stdout",
          "text": [
            "A raiz de 18 é igual a 4.24\n"
          ]
        }
      ]
    },
    {
      "cell_type": "code",
      "source": [
        "# Calculando Raiz diretamente\n",
        "math.sqrt(18)"
      ],
      "metadata": {
        "colab": {
          "base_uri": "https://localhost:8080/"
        },
        "id": "-97kvmrt-PAN",
        "outputId": "a7e1e8c2-c7b8-4c09-a931-d36f29f1e36b"
      },
      "execution_count": null,
      "outputs": [
        {
          "output_type": "execute_result",
          "data": {
            "text/plain": [
              "4.242640687119285"
            ]
          },
          "metadata": {},
          "execution_count": 23
        }
      ]
    },
    {
      "cell_type": "code",
      "source": [
        "# Numeros aleatórios / Estatística\n",
        "import random\n",
        "num = random.randint (1,10)\n",
        "print(num)"
      ],
      "metadata": {
        "colab": {
          "base_uri": "https://localhost:8080/"
        },
        "id": "XONI_Yo__EwV",
        "outputId": "7cd7ab01-169f-4c31-b55f-320d3b67784c"
      },
      "execution_count": null,
      "outputs": [
        {
          "output_type": "stream",
          "name": "stdout",
          "text": [
            "5\n"
          ]
        }
      ]
    },
    {
      "cell_type": "code",
      "source": [
        "from random import random, randint   # randint = inteiros"
      ],
      "metadata": {
        "id": "ufHOBvWZAf_F"
      },
      "execution_count": null,
      "outputs": []
    },
    {
      "cell_type": "code",
      "source": [
        "num = random()\n",
        "num"
      ],
      "metadata": {
        "colab": {
          "base_uri": "https://localhost:8080/"
        },
        "id": "9DazMvHwAC4N",
        "outputId": "1acdad9c-44f5-48c3-b1d9-604ba0a16351"
      },
      "execution_count": null,
      "outputs": [
        {
          "output_type": "execute_result",
          "data": {
            "text/plain": [
              "0.7155487281092702"
            ]
          },
          "metadata": {},
          "execution_count": 26
        }
      ]
    },
    {
      "cell_type": "code",
      "source": [
        "randint(2,15)  # Sorteio de numeros int."
      ],
      "metadata": {
        "colab": {
          "base_uri": "https://localhost:8080/"
        },
        "id": "8eqxbFD9A1Td",
        "outputId": "04644470-a334-4041-ccc7-764f5548fbf4"
      },
      "execution_count": null,
      "outputs": [
        {
          "output_type": "execute_result",
          "data": {
            "text/plain": [
              "5"
            ]
          },
          "metadata": {},
          "execution_count": 27
        }
      ]
    },
    {
      "cell_type": "markdown",
      "source": [
        "# Estrutura condicional"
      ],
      "metadata": {
        "id": "4rs8bsSPBXEm"
      }
    },
    {
      "cell_type": "code",
      "source": [
        "# IF (se)\n",
        "# Else (se não)\n",
        "# Elif (ou se)"
      ],
      "metadata": {
        "id": "aqYlQdYjC4y1"
      },
      "execution_count": null,
      "outputs": []
    },
    {
      "cell_type": "code",
      "source": [
        "nota = 5.9"
      ],
      "metadata": {
        "id": "Cwq6aCQfDL0k"
      },
      "execution_count": null,
      "outputs": []
    },
    {
      "cell_type": "code",
      "source": [
        "if nota >= 6:\n",
        "    print('Aprovado')\n",
        "else:\n",
        "  print('Reprovado')"
      ],
      "metadata": {
        "colab": {
          "base_uri": "https://localhost:8080/"
        },
        "id": "dGhgYhwfDA4E",
        "outputId": "7932098c-f10b-4659-e709-c993d9eed5b2"
      },
      "execution_count": null,
      "outputs": [
        {
          "output_type": "stream",
          "name": "stdout",
          "text": [
            "Reprovado\n"
          ]
        }
      ]
    },
    {
      "cell_type": "code",
      "source": [
        "if nota >= 6:\n",
        "    print('Aprovado')\n",
        "elif nota >= 5 and nota <6:\n",
        "    print('Recuperação')\n",
        "else:\n",
        "  print('Reprovado')"
      ],
      "metadata": {
        "colab": {
          "base_uri": "https://localhost:8080/"
        },
        "id": "_Ydx72dHDYn8",
        "outputId": "b17ef16c-6537-40e9-e31b-efedeee114fe"
      },
      "execution_count": null,
      "outputs": [
        {
          "output_type": "stream",
          "name": "stdout",
          "text": [
            "Recuperação\n"
          ]
        }
      ]
    },
    {
      "cell_type": "markdown",
      "source": [
        "# Estruturas de Repetições"
      ],
      "metadata": {
        "id": "Du3Hv7bCY7Da"
      }
    },
    {
      "cell_type": "code",
      "source": [
        "# for\n",
        "\n",
        "# while"
      ],
      "metadata": {
        "id": "T_l3KlykZBya"
      },
      "execution_count": null,
      "outputs": []
    },
    {
      "cell_type": "code",
      "source": [
        "for c in range(0,4):\n",
        "  print(c)"
      ],
      "metadata": {
        "colab": {
          "base_uri": "https://localhost:8080/"
        },
        "id": "-kK7AaZ2ZGe6",
        "outputId": "20746980-9f3a-461c-de9c-c907dd3c553e"
      },
      "execution_count": null,
      "outputs": [
        {
          "output_type": "stream",
          "name": "stdout",
          "text": [
            "0\n",
            "1\n",
            "2\n",
            "3\n"
          ]
        }
      ]
    },
    {
      "cell_type": "code",
      "source": [
        "lista = [1,2,3,4,10]\n",
        "for numero in lista:\n",
        "  print(numero * 2)"
      ],
      "metadata": {
        "colab": {
          "base_uri": "https://localhost:8080/"
        },
        "id": "StSoPu4SapBj",
        "outputId": "7ee22fa7-e097-4222-881c-82fcbe9ab18c"
      },
      "execution_count": null,
      "outputs": [
        {
          "output_type": "stream",
          "name": "stdout",
          "text": [
            "2\n",
            "4\n",
            "6\n",
            "8\n",
            "20\n"
          ]
        }
      ]
    },
    {
      "cell_type": "code",
      "source": [
        "# for e if\n",
        "\n",
        "soma = 0\n",
        "cont = 0\n",
        "for c in range (1,6):\n",
        "  num = int(input('digite o {}o valor:  '.format(c)))\n",
        "  if num % 2 == 0:\n",
        "    soma = soma + num\n",
        "    cont = cont + 13\n",
        "print('Você informou {} números pares e a soma deles é igual a {}'.format(cont, soma))\n",
        "\n"
      ],
      "metadata": {
        "colab": {
          "base_uri": "https://localhost:8080/"
        },
        "id": "xJ-cWsmDbTX5",
        "outputId": "29633003-12f7-4cdb-da8a-5db5c7106f37"
      },
      "execution_count": null,
      "outputs": [
        {
          "output_type": "stream",
          "name": "stdout",
          "text": [
            "digite o 1o valor:  1\n",
            "digite o 2o valor:  2\n",
            "digite o 3o valor:  3\n",
            "digite o 4o valor:  4\n",
            "digite o 5o valor:  5\n",
            "Você informou 26 números pares e a soma deles é igual a 6\n"
          ]
        }
      ]
    },
    {
      "cell_type": "code",
      "source": [
        "c = 1\n",
        "while c <= 10:\n",
        "  s = c + 10\n",
        "  print(s)\n",
        "  c = c + 1\n",
        "print('FIM')"
      ],
      "metadata": {
        "colab": {
          "base_uri": "https://localhost:8080/"
        },
        "id": "sw7vEzRJeItc",
        "outputId": "654c5771-21fb-4021-ee7d-90013d16d54a"
      },
      "execution_count": null,
      "outputs": [
        {
          "output_type": "stream",
          "name": "stdout",
          "text": [
            "11\n",
            "12\n",
            "13\n",
            "14\n",
            "15\n",
            "16\n",
            "17\n",
            "18\n",
            "19\n",
            "20\n",
            "FIM\n"
          ]
        }
      ]
    },
    {
      "cell_type": "markdown",
      "source": [
        "# Listas, tuplas e Dicionários"
      ],
      "metadata": {
        "id": "Xptb4V0oews5"
      }
    },
    {
      "cell_type": "code",
      "source": [
        "# Listas []\n",
        "# Tuplas ()\n",
        "# Dicionários {}"
      ],
      "metadata": {
        "id": "Ik2xdeR2e9hS"
      },
      "execution_count": null,
      "outputs": []
    },
    {
      "cell_type": "markdown",
      "source": [
        "## Listas"
      ],
      "metadata": {
        "id": "nwal9Qn9foZS"
      }
    },
    {
      "cell_type": "code",
      "source": [
        "# lista\n",
        "\n",
        "numlista = [2,5,7,9]\n",
        "numlista"
      ],
      "metadata": {
        "colab": {
          "base_uri": "https://localhost:8080/"
        },
        "id": "WiUfrBjCfOne",
        "outputId": "83a5a56e-f467-4ad8-f433-4cea31d123da"
      },
      "execution_count": null,
      "outputs": [
        {
          "output_type": "execute_result",
          "data": {
            "text/plain": [
              "[2, 5, 7, 9]"
            ]
          },
          "metadata": {},
          "execution_count": 45
        }
      ]
    },
    {
      "cell_type": "code",
      "source": [
        "# subst. nume da lista\n",
        "\n",
        "numlista[3] = 4  # no ligar do elemento na posição 3 (nº 9) vai ser inserido o nº 4.\n",
        "numlista"
      ],
      "metadata": {
        "colab": {
          "base_uri": "https://localhost:8080/"
        },
        "id": "2P7JlvWCfZei",
        "outputId": "cea29f93-1728-494b-f0b6-d91b62a48449"
      },
      "execution_count": null,
      "outputs": [
        {
          "output_type": "execute_result",
          "data": {
            "text/plain": [
              "[2, 5, 7, 4]"
            ]
          },
          "metadata": {},
          "execution_count": 46
        }
      ]
    },
    {
      "cell_type": "code",
      "source": [
        "numlista.append(8)  # inclui o nº 8\n",
        "numlista"
      ],
      "metadata": {
        "colab": {
          "base_uri": "https://localhost:8080/"
        },
        "id": "wIYbLe7_hgFi",
        "outputId": "13ca3db1-2057-4050-e298-dfea17062b44"
      },
      "execution_count": null,
      "outputs": [
        {
          "output_type": "execute_result",
          "data": {
            "text/plain": [
              "[2, 5, 7, 4, 8, 8, 8]"
            ]
          },
          "metadata": {},
          "execution_count": 49
        }
      ]
    },
    {
      "cell_type": "code",
      "source": [
        "numlista.sort() # coloca em ordem crescente\n",
        "numlista"
      ],
      "metadata": {
        "colab": {
          "base_uri": "https://localhost:8080/"
        },
        "id": "FLeZiOUJht5C",
        "outputId": "41d7b267-c3d4-4a92-914a-af9a78b6ca8e"
      },
      "execution_count": null,
      "outputs": [
        {
          "output_type": "execute_result",
          "data": {
            "text/plain": [
              "[2, 4, 5, 7, 8, 8, 8]"
            ]
          },
          "metadata": {},
          "execution_count": 50
        }
      ]
    },
    {
      "cell_type": "code",
      "source": [
        "numlista.insert(2,0)  # adiciona o zero na posição 2\n",
        "numlista"
      ],
      "metadata": {
        "colab": {
          "base_uri": "https://localhost:8080/"
        },
        "id": "Ck45rEpfh0wy",
        "outputId": "d08caccd-dda0-497f-e401-58bc2a0f5d87"
      },
      "execution_count": null,
      "outputs": [
        {
          "output_type": "execute_result",
          "data": {
            "text/plain": [
              "[2, 4, 0, 5, 7, 8, 8, 8]"
            ]
          },
          "metadata": {},
          "execution_count": 51
        }
      ]
    },
    {
      "cell_type": "code",
      "source": [
        "numlista.remove(5) # remove o elemento 7\n",
        "numlista"
      ],
      "metadata": {
        "colab": {
          "base_uri": "https://localhost:8080/"
        },
        "id": "BRomDh8niGOy",
        "outputId": "5bbdbb50-c291-4768-de87-872fdebdabd3"
      },
      "execution_count": null,
      "outputs": [
        {
          "output_type": "execute_result",
          "data": {
            "text/plain": [
              "[2, 0, 8, 8, 8]"
            ]
          },
          "metadata": {},
          "execution_count": 60
        }
      ]
    },
    {
      "cell_type": "code",
      "source": [
        "numlista.pop(3)  # remove o elemento na posição 3\n",
        "numlista"
      ],
      "metadata": {
        "colab": {
          "base_uri": "https://localhost:8080/"
        },
        "id": "dEgQ_tjeiex6",
        "outputId": "573a4c85-64a4-49d0-df02-7d4c6a1aa02e"
      },
      "execution_count": null,
      "outputs": [
        {
          "output_type": "execute_result",
          "data": {
            "text/plain": [
              "[2, 0, 8, 8]"
            ]
          },
          "metadata": {},
          "execution_count": 61
        }
      ]
    },
    {
      "cell_type": "markdown",
      "source": [
        "## Tuplas"
      ],
      "metadata": {
        "id": "Yc9A4rUAlWMp"
      }
    },
    {
      "cell_type": "code",
      "source": [
        "# Tuplas ()   # Imutável\n",
        "\n",
        "num3 = (2,5,79,6)\n",
        "num3"
      ],
      "metadata": {
        "colab": {
          "base_uri": "https://localhost:8080/"
        },
        "id": "R1uxBmvLlZG5",
        "outputId": "08039769-8ac2-43e2-d448-c421a3ed14c4"
      },
      "execution_count": null,
      "outputs": [
        {
          "output_type": "execute_result",
          "data": {
            "text/plain": [
              "(2, 5, 79, 6)"
            ]
          },
          "metadata": {},
          "execution_count": 62
        }
      ]
    },
    {
      "cell_type": "markdown",
      "source": [
        "# Dicionário"
      ],
      "metadata": {
        "id": "j3AWgWK5qcnr"
      }
    },
    {
      "cell_type": "code",
      "source": [
        "# Dicionário {}  // precisa de um par, chave e valores\n",
        "\n",
        "pessoas = {'nome': 'Luciano', 'sexo': 'masculino', 'idade': 46}  # número não vai aspas {}\n",
        "print(pessoas)"
      ],
      "metadata": {
        "colab": {
          "base_uri": "https://localhost:8080/"
        },
        "id": "FHZ8nXwVqf3I",
        "outputId": "40dec73a-f294-4c1c-ac95-97b770ae10e3"
      },
      "execution_count": null,
      "outputs": [
        {
          "output_type": "stream",
          "name": "stdout",
          "text": [
            "{'nome': 'Luciano', 'sexo': 'masculino', 'idade': 46}\n"
          ]
        }
      ]
    },
    {
      "cell_type": "code",
      "source": [
        "pessoas['time'] = 'Corinthians'   # incluir\n",
        "print(pessoas)"
      ],
      "metadata": {
        "colab": {
          "base_uri": "https://localhost:8080/"
        },
        "id": "NCKCNxfYrCy6",
        "outputId": "3c2a9572-6ca9-4b72-d1af-234825e4f56f"
      },
      "execution_count": null,
      "outputs": [
        {
          "output_type": "stream",
          "name": "stdout",
          "text": [
            "{'nome': 'Luciano', 'sexo': 'masculino', 'idade': 46, 'time': 'Corinthians'}\n"
          ]
        }
      ]
    },
    {
      "cell_type": "code",
      "source": [
        "del pessoas['idade']\n",
        "print(pessoas)"
      ],
      "metadata": {
        "colab": {
          "base_uri": "https://localhost:8080/"
        },
        "id": "TiUd8249rX_g",
        "outputId": "ef08e125-bb87-42e1-d70c-1086c705d5a2"
      },
      "execution_count": null,
      "outputs": [
        {
          "output_type": "stream",
          "name": "stdout",
          "text": [
            "{'nome': 'Luciano', 'sexo': 'masculino', 'time': 'Corinthians'}\n"
          ]
        }
      ]
    },
    {
      "cell_type": "markdown",
      "source": [
        "# Funções"
      ],
      "metadata": {
        "id": "c3wbmy5rrnmF"
      }
    },
    {
      "cell_type": "code",
      "source": [
        "def identificacao(nome, idade):\n",
        "  print('Olá',nome,'\\nVocê é jovem, tem apenas',idade, 'anos')"
      ],
      "metadata": {
        "id": "mJ5I-fZNrsTy"
      },
      "execution_count": null,
      "outputs": []
    },
    {
      "cell_type": "code",
      "source": [
        "identificacao('Luciano', 46)"
      ],
      "metadata": {
        "colab": {
          "base_uri": "https://localhost:8080/"
        },
        "id": "6GPcucFKvrII",
        "outputId": "7be451b1-149b-4de4-cdf4-20345e63d7c3"
      },
      "execution_count": null,
      "outputs": [
        {
          "output_type": "stream",
          "name": "stdout",
          "text": [
            "Olá Luciano \n",
            "Você é jovem, tem apenas 46 anos\n"
          ]
        }
      ]
    },
    {
      "cell_type": "code",
      "source": [
        "# Exemplo de uma função simples\n",
        "\n",
        "def maior (x,y):\n",
        "  if x < y:\n",
        "    print ('O maior número é', y)\n",
        "  elif x == y:\n",
        "    print ('Os números são iguais')\n",
        "  else:\n",
        "    print ('O maior número é', x)"
      ],
      "metadata": {
        "id": "gI-DgjEg2IGo"
      },
      "execution_count": null,
      "outputs": []
    },
    {
      "cell_type": "code",
      "source": [
        "maior (15,16)"
      ],
      "metadata": {
        "colab": {
          "base_uri": "https://localhost:8080/"
        },
        "id": "63_eD6o-3A06",
        "outputId": "2f6470bd-f322-4172-ed2c-0d7eee859ffc"
      },
      "execution_count": null,
      "outputs": [
        {
          "output_type": "stream",
          "name": "stdout",
          "text": [
            "O maior número é 16\n"
          ]
        }
      ]
    },
    {
      "cell_type": "code",
      "source": [
        "# Função do teorema de pitágoras / cálcular triângulo e retângulo\n",
        "\n",
        "def pitagoras (cat1, cat2, hip):\n",
        "  if hip == '?':\n",
        "    hip = (cat1**2+cat2**2)**(1/2)\n",
        "    print ('A hipotenusa é', hip)\n",
        "  elif cat1 == '?':\n",
        "    cat1 = (hip**2-cat2**2)**(1/2)\n",
        "    print ('O cateto é', cat1)\n",
        "  elif cat2 == '?':\n",
        "    cat2 = (hip**2-cat1**2)**(1/2)\n",
        "    print ('O cateto é', cat2)"
      ],
      "metadata": {
        "id": "0lCuVWvh3PU_"
      },
      "execution_count": null,
      "outputs": []
    },
    {
      "cell_type": "code",
      "source": [
        "pitagoras ('?', 4,5)"
      ],
      "metadata": {
        "colab": {
          "base_uri": "https://localhost:8080/"
        },
        "id": "MjpnT_af4eIX",
        "outputId": "8f420eb7-98fc-4db5-a617-c83c11a29188"
      },
      "execution_count": null,
      "outputs": [
        {
          "output_type": "stream",
          "name": "stdout",
          "text": [
            "O cateto é 3.0\n"
          ]
        }
      ]
    },
    {
      "cell_type": "markdown",
      "source": [
        "# Função lambda e map"
      ],
      "metadata": {
        "id": "byEQWLRQ5BbF"
      }
    },
    {
      "cell_type": "code",
      "source": [
        "# lambda e map // simplificar a escrita de função"
      ],
      "metadata": {
        "id": "VYl_97Hk5FO4"
      },
      "execution_count": null,
      "outputs": []
    },
    {
      "cell_type": "code",
      "source": [
        "def area_quadrada (L):\n",
        "    area = L**2\n",
        "    print(area)"
      ],
      "metadata": {
        "id": "tzE1sO83B0v3"
      },
      "execution_count": null,
      "outputs": []
    },
    {
      "cell_type": "code",
      "source": [
        "area_quadrada(4)"
      ],
      "metadata": {
        "colab": {
          "base_uri": "https://localhost:8080/"
        },
        "id": "elnqqtY8CFj9",
        "outputId": "8dac1a24-0ee1-4724-b478-3ce850569522"
      },
      "execution_count": null,
      "outputs": [
        {
          "output_type": "stream",
          "name": "stdout",
          "text": [
            "16\n"
          ]
        }
      ]
    },
    {
      "cell_type": "code",
      "source": [
        "area_quadrada2 = lambda x: x**2"
      ],
      "metadata": {
        "id": "3Cei87euCKQX"
      },
      "execution_count": null,
      "outputs": []
    },
    {
      "cell_type": "code",
      "source": [
        "area_retangulo = lambda b, h: b*h"
      ],
      "metadata": {
        "id": "zW9A3IDBCYjP"
      },
      "execution_count": null,
      "outputs": []
    },
    {
      "cell_type": "code",
      "source": [
        "area_retangulo(4,7)"
      ],
      "metadata": {
        "colab": {
          "base_uri": "https://localhost:8080/"
        },
        "id": "Y3oc08QrCvQ3",
        "outputId": "be7619e5-c519-4cce-a261-d9a05b0d8561"
      },
      "execution_count": null,
      "outputs": [
        {
          "output_type": "execute_result",
          "data": {
            "text/plain": [
              "28"
            ]
          },
          "metadata": {},
          "execution_count": 91
        }
      ]
    },
    {
      "cell_type": "code",
      "source": [
        "# Juntar Lambda com Map\n",
        "\n",
        "L = [4,5,6,7,11,9,10]\n",
        "areas = list(map(lambda x: x**2, L))\n",
        "print(areas)"
      ],
      "metadata": {
        "colab": {
          "base_uri": "https://localhost:8080/"
        },
        "id": "hGOvUmHGC423",
        "outputId": "4ab76172-f75a-4263-b84d-79403d9a0510"
      },
      "execution_count": null,
      "outputs": [
        {
          "output_type": "stream",
          "name": "stdout",
          "text": [
            "[16, 25, 36, 49, 121, 81, 100]\n"
          ]
        }
      ]
    },
    {
      "cell_type": "markdown",
      "source": [
        "# List Compreehensions"
      ],
      "metadata": {
        "id": "PBEzaWgNDyap"
      }
    },
    {
      "cell_type": "code",
      "source": [
        "# Objetivo da técnica:\n",
        "\n",
        "# otimizar a utilização de lista e edimuir linhas de código"
      ],
      "metadata": {
        "id": "7WsAYwCUDZho"
      },
      "execution_count": null,
      "outputs": []
    },
    {
      "cell_type": "code",
      "source": [
        "# Ex. lista com comando For (comum)\n",
        "\n",
        "lista=[]\n",
        "for valor in range(5):\n",
        "    lista.append(valor+10)\n",
        "print(lista)"
      ],
      "metadata": {
        "colab": {
          "base_uri": "https://localhost:8080/"
        },
        "id": "per23Ap6EHxP",
        "outputId": "e962e991-a8bf-43ca-ce11-ec85035f39c1"
      },
      "execution_count": null,
      "outputs": [
        {
          "output_type": "stream",
          "name": "stdout",
          "text": [
            "[10, 11, 12, 13, 14]\n"
          ]
        }
      ]
    },
    {
      "cell_type": "code",
      "source": [
        "# Ex. lista comprenhensions 1\n",
        "\n",
        "lista = [valor+10 for valor in range(5)]\n",
        "print(lista)"
      ],
      "metadata": {
        "colab": {
          "base_uri": "https://localhost:8080/"
        },
        "id": "3SGmpuPRFEZ-",
        "outputId": "c7392e94-ddfc-4d88-daa8-86469b6522f0"
      },
      "execution_count": null,
      "outputs": [
        {
          "output_type": "stream",
          "name": "stdout",
          "text": [
            "[10, 11, 12, 13, 14]\n"
          ]
        }
      ]
    },
    {
      "cell_type": "code",
      "source": [
        "# Ex. lista comprenhensions 2\n",
        "\n",
        "conceito = ['azul' if nota >6 else 'vermelha' for nota in range(1,11)]\n",
        "print(conceito)"
      ],
      "metadata": {
        "colab": {
          "base_uri": "https://localhost:8080/"
        },
        "id": "hISE-g0oGfGH",
        "outputId": "12b13b63-3960-4c95-fae2-a7f506700bf0"
      },
      "execution_count": null,
      "outputs": [
        {
          "output_type": "stream",
          "name": "stdout",
          "text": [
            "['vermelha', 'vermelha', 'vermelha', 'vermelha', 'vermelha', 'vermelha', 'azul', 'azul', 'azul', 'azul']\n"
          ]
        }
      ]
    },
    {
      "cell_type": "markdown",
      "source": [
        "# Vetores (arrays) e matrizes"
      ],
      "metadata": {
        "id": "BaguDWjDG5l3"
      }
    },
    {
      "cell_type": "code",
      "source": [
        "# Matriz = conjunto de números ou caracteres em determinada sequência\n",
        "\n",
        "# Matriz / tabela de dados\n",
        "1 3 5 7\n",
        "2 4 6 8\n",
        "0 1 2 3\n",
        "\n",
        "# Vetor / unidimenssional, uma linha ou uma coluna\n",
        "5 10 15 20\n",
        "ou\n",
        "3\n",
        "4\n",
        "5\n",
        "6\n"
      ],
      "metadata": {
        "id": "DE1Sjfr9G-hU"
      },
      "execution_count": null,
      "outputs": []
    },
    {
      "cell_type": "code",
      "source": [
        "# vetor\n",
        "\n",
        "vetor = [2,4,5,6]"
      ],
      "metadata": {
        "id": "eiWEJ55bHcsH"
      },
      "execution_count": null,
      "outputs": []
    },
    {
      "cell_type": "markdown",
      "source": [
        "type(vetor)"
      ],
      "metadata": {
        "id": "8wb59k7MIxru"
      }
    },
    {
      "cell_type": "code",
      "source": [
        "matriz = [[1,2,3],\n",
        "          [4,5,6],\n",
        "          [7,8,9]]"
      ],
      "metadata": {
        "id": "ov5l6lfRI4-G"
      },
      "execution_count": null,
      "outputs": []
    },
    {
      "cell_type": "code",
      "source": [
        "type(matriz)"
      ],
      "metadata": {
        "colab": {
          "base_uri": "https://localhost:8080/"
        },
        "id": "0DP7zLGwJNiF",
        "outputId": "03b80875-c75b-47b5-9fa4-9b2a88371924"
      },
      "execution_count": null,
      "outputs": [
        {
          "output_type": "execute_result",
          "data": {
            "text/plain": [
              "list"
            ]
          },
          "metadata": {},
          "execution_count": 108
        }
      ]
    },
    {
      "cell_type": "code",
      "source": [
        "print(matriz)"
      ],
      "metadata": {
        "colab": {
          "base_uri": "https://localhost:8080/"
        },
        "id": "x2-XJMfsJQj-",
        "outputId": "48332622-0b97-4b04-d63e-add46adfd97e"
      },
      "execution_count": null,
      "outputs": [
        {
          "output_type": "stream",
          "name": "stdout",
          "text": [
            "[[1, 2, 3], [4, 5, 6], [7, 8, 9]]\n"
          ]
        }
      ]
    },
    {
      "cell_type": "code",
      "source": [
        "# usar ARRAY\n",
        "\n",
        "import numpy as np"
      ],
      "metadata": {
        "id": "R1gLMf6QJZF-"
      },
      "execution_count": null,
      "outputs": []
    },
    {
      "cell_type": "markdown",
      "source": [
        "A principal vantagem de utilizar Arrays em Python é a capacidade de acessar e manipular os elementos de forma eficiente. Com um Array, é possível acessar um elemento específico utilizando seu índice, que representa a posição do elemento no Array."
      ],
      "metadata": {
        "id": "JqTUy1APKLVn"
      }
    },
    {
      "cell_type": "code",
      "source": [
        "vetor2 = np.array([1, -3, 4.2, 5])"
      ],
      "metadata": {
        "id": "1JC4_CzeJew-"
      },
      "execution_count": null,
      "outputs": []
    },
    {
      "cell_type": "code",
      "source": [
        "type(vetor2)"
      ],
      "metadata": {
        "colab": {
          "base_uri": "https://localhost:8080/"
        },
        "id": "ijBfak1OJ2Y9",
        "outputId": "419c4450-a2e8-45c4-c516-900f9efabf83"
      },
      "execution_count": null,
      "outputs": [
        {
          "output_type": "execute_result",
          "data": {
            "text/plain": [
              "numpy.ndarray"
            ]
          },
          "metadata": {},
          "execution_count": 112
        }
      ]
    },
    {
      "cell_type": "code",
      "source": [
        "print(vetor2)"
      ],
      "metadata": {
        "colab": {
          "base_uri": "https://localhost:8080/"
        },
        "id": "AHpQn97KJ7SX",
        "outputId": "673029c8-bf39-4d24-83f8-6266f639fb46"
      },
      "execution_count": null,
      "outputs": [
        {
          "output_type": "stream",
          "name": "stdout",
          "text": [
            "[ 1.  -3.   4.2  5. ]\n"
          ]
        }
      ]
    },
    {
      "cell_type": "code",
      "source": [
        "# Array com matriz\n",
        "\n",
        "matriz2 = np.ones((2,3))\n",
        "matriz2"
      ],
      "metadata": {
        "colab": {
          "base_uri": "https://localhost:8080/"
        },
        "id": "zSX2XDidJ9TP",
        "outputId": "6ec4cac3-c134-47a5-8ddc-69a4d415e71d"
      },
      "execution_count": null,
      "outputs": [
        {
          "output_type": "execute_result",
          "data": {
            "text/plain": [
              "array([[1., 1., 1.],\n",
              "       [1., 1., 1.]])"
            ]
          },
          "metadata": {},
          "execution_count": 115
        }
      ]
    },
    {
      "cell_type": "code",
      "source": [
        "matriz3 = np.diag((2,4,6,8,10))\n",
        "matriz3\n",
        "\n",
        "# np = objeto\n",
        "# .diag = método\n",
        "# parâmetros"
      ],
      "metadata": {
        "colab": {
          "base_uri": "https://localhost:8080/"
        },
        "id": "R5ku4VQwKgs-",
        "outputId": "07d1957d-5f47-4dad-e29b-7e2b926d0985"
      },
      "execution_count": null,
      "outputs": [
        {
          "output_type": "execute_result",
          "data": {
            "text/plain": [
              "array([[ 2,  0,  0,  0,  0],\n",
              "       [ 0,  4,  0,  0,  0],\n",
              "       [ 0,  0,  6,  0,  0],\n",
              "       [ 0,  0,  0,  8,  0],\n",
              "       [ 0,  0,  0,  0, 10]])"
            ]
          },
          "metadata": {},
          "execution_count": 116
        }
      ]
    },
    {
      "cell_type": "markdown",
      "source": [
        "# 2 Preparação dos Dados"
      ],
      "metadata": {
        "id": "OqvEWamEMaZy"
      }
    },
    {
      "cell_type": "markdown",
      "source": [
        "## Conhecendo o Dataset"
      ],
      "metadata": {
        "id": "_6XJs717MhB8"
      }
    },
    {
      "cell_type": "code",
      "source": [],
      "metadata": {
        "id": "URJxvS_nNKue"
      },
      "execution_count": null,
      "outputs": []
    },
    {
      "cell_type": "code",
      "source": [
        "import numpy as np\n",
        "import pandas as pd"
      ],
      "metadata": {
        "id": "sIWj07q0TvbN"
      },
      "execution_count": null,
      "outputs": []
    },
    {
      "cell_type": "code",
      "source": [
        "dados = pd.read_csv('/content/drive/MyDrive/PYT/0_curso_Estatística_para_Analise_de_Dados_com_Python/microdados_enem_2019_sp.csv',sep=';', encoding='iso-8859-1')\n",
        "# encoding: codificação de caracteres, normalmente utiliza-se o iso-8859-1, utf-8, latin-1)"
      ],
      "metadata": {
        "id": "EYr7ATOeXBlN"
      },
      "execution_count": null,
      "outputs": []
    },
    {
      "cell_type": "markdown",
      "source": [],
      "metadata": {
        "id": "g3aNCR0Gq7-i"
      }
    },
    {
      "cell_type": "code",
      "source": [
        "from google.colab import drive\n",
        "drive.mount('/content/drive')"
      ],
      "metadata": {
        "colab": {
          "base_uri": "https://localhost:8080/"
        },
        "id": "FwNONIDUXLcF",
        "outputId": "6981dc18-c1e9-47f2-8a02-aa66e376e003"
      },
      "execution_count": null,
      "outputs": [
        {
          "output_type": "stream",
          "name": "stdout",
          "text": [
            "Drive already mounted at /content/drive; to attempt to forcibly remount, call drive.mount(\"/content/drive\", force_remount=True).\n"
          ]
        }
      ]
    },
    {
      "cell_type": "markdown",
      "source": [
        "### Continua em PROJETO ANÁLISE ESTATÍSTICA DO ENEM 2019"
      ],
      "metadata": {
        "id": "2oYidjamq03N"
      }
    }
  ]
}