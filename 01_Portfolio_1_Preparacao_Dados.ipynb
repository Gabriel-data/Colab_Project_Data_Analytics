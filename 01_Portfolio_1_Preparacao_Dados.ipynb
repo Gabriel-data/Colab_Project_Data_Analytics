{
  "nbformat": 4,
  "nbformat_minor": 0,
  "metadata": {
    "colab": {
      "provenance": [],
      "authorship_tag": "ABX9TyM1LAxRwAEETNgoCbbFfF2+",
      "include_colab_link": true
    },
    "kernelspec": {
      "name": "python3",
      "display_name": "Python 3"
    },
    "language_info": {
      "name": "python"
    }
  },
  "cells": [
    {
      "cell_type": "markdown",
      "metadata": {
        "id": "view-in-github",
        "colab_type": "text"
      },
      "source": [
        "<a href=\"https://colab.research.google.com/github/Gabriel-data/Colab_Project_Data_Analytics/blob/main/01_Portfolio_1_Preparacao_Dados.ipynb\" target=\"_parent\"><img src=\"https://colab.research.google.com/assets/colab-badge.svg\" alt=\"Open In Colab\"/></a>"
      ]
    },
    {
      "cell_type": "markdown",
      "source": [
        "# OBJETIVO\n",
        "\n",
        "## Analisar a estrutura de um Dataset, identificar as necessidades de correções que possam ser aplicadas diretamente no Python."
      ],
      "metadata": {
        "id": "a22j8eRGtUAX"
      }
    },
    {
      "cell_type": "markdown",
      "source": [
        "# Preparação do ambiente."
      ],
      "metadata": {
        "id": "MTZzwbZxtQNf"
      }
    },
    {
      "cell_type": "code",
      "source": [
        "# Importar as bibliotecas\n",
        "import numpy as np\n",
        "import pandas as pd"
      ],
      "metadata": {
        "id": "xR4C6qguxuyU"
      },
      "execution_count": 21,
      "outputs": []
    },
    {
      "cell_type": "code",
      "source": [
        "### Montar o Drive\n",
        "from google.colab import drive\n",
        "drive.mount('/content/drive')"
      ],
      "metadata": {
        "colab": {
          "base_uri": "https://localhost:8080/"
        },
        "id": "ifddkCO-xs_W",
        "outputId": "a8b4c1b1-cbce-44fc-efc5-7ed980abbad5"
      },
      "execution_count": 22,
      "outputs": [
        {
          "output_type": "stream",
          "name": "stdout",
          "text": [
            "Drive already mounted at /content/drive; to attempt to forcibly remount, call drive.mount(\"/content/drive\", force_remount=True).\n"
          ]
        }
      ]
    },
    {
      "cell_type": "markdown",
      "source": [
        "# Preparação, organização e estruturação dos dados."
      ],
      "metadata": {
        "id": "C4m6xdFRmMHx"
      }
    },
    {
      "cell_type": "markdown",
      "source": [
        "### Extração dos Dados"
      ],
      "metadata": {
        "id": "_bbjw053ju2B"
      }
    },
    {
      "cell_type": "code",
      "source": [
        "# CARREGAR O DATASET em formato Excel, tipo de arquivo .XLSX.\n",
        "\n",
        "# O arquivo na origem possui mais de uma planilha, por isso foi acrescentado um direcionamento para a Lista1.\n",
        "\n",
        "dados = pd.read_excel('/content/drive/MyDrive/PYT/1_Portfolio/0_Estudo_Plan_Produtos/Produtos1.xlsx', sheet_name='Lista1')"
      ],
      "metadata": {
        "id": "M9TH0swhx6tS"
      },
      "execution_count": 23,
      "outputs": []
    },
    {
      "cell_type": "markdown",
      "source": [
        "### Apresentação do DATASET: Produtos 1\n",
        "\n",
        "Produto (SKU), Título, Marca, Categoria, Valor de Custo, Preço de Venda, Estoques, Armazém, Filial e Tabela.\n"
      ],
      "metadata": {
        "id": "QQkxN1OJR8SU"
      }
    },
    {
      "cell_type": "code",
      "source": [
        "# Primeiros 10 registros\n",
        "\n",
        "dados.head(11)"
      ],
      "metadata": {
        "colab": {
          "base_uri": "https://localhost:8080/",
          "height": 394
        },
        "id": "57xAnVgsSNlZ",
        "outputId": "f61bdb43-d2f8-451b-ae46-91faef7fec45"
      },
      "execution_count": 25,
      "outputs": [
        {
          "output_type": "execute_result",
          "data": {
            "text/plain": [
              "          SKU   TITULO       MARCA   CATEGORIA  VALOR_CUSTO  PRECO_VISTA  \\\n",
              "0   XYZ102030   Item 1      Amazon  Eletronico        300.0        450.0   \n",
              "1   XYZ102031   Item 2       Apple         NaN        650.0        975.0   \n",
              "2   XYZ102032   Item 3      Google    Internet        900.0       1350.0   \n",
              "3   XYZ102033   Item 4   Microsoft    Software       6500.0       9750.0   \n",
              "4   XYZ102034   Item 5         NaN  Eletronico        650.0        975.0   \n",
              "5   XYZ102035   Item 6  Mastercard     Serviço        650.0        975.0   \n",
              "6   XYZ102036   Item 7      Google    Internet        990.0       1485.0   \n",
              "7   XYZ102037   Item 8   Microsoft    Software        650.0        975.0   \n",
              "8   XYZ102038   Item 9        Dove      Beleza        300.0        450.0   \n",
              "9   ABC102039  Item 10        Dove      Beleza        300.0        450.0   \n",
              "10  ABC102040  Item 11  Mastercard     Serviço        650.0        975.0   \n",
              "\n",
              "    PRECO_PRAZO  ESTOQUE  TOTAL_VLR_CUSTO  TOTAL_VLR_VENDA  Armazem  FILIAL  \\\n",
              "0         495.0     10.0           3000.0           4500.0      1.0    18.0   \n",
              "1        1072.5     20.0          13000.0          19500.0      1.0    18.0   \n",
              "2        1485.0     30.0          27000.0          40500.0      2.0    17.0   \n",
              "3       10725.0     10.0          65000.0          97500.0      1.0     2.0   \n",
              "4        1072.5     50.0          32500.0          48750.0      3.0    18.0   \n",
              "5        1072.5     60.0          39000.0          58500.0      1.0     1.0   \n",
              "6        1633.5     70.0          69300.0         103950.0      1.0    17.0   \n",
              "7        1072.5     80.0          52000.0          78000.0      5.0     2.0   \n",
              "8         495.0     90.0          27000.0          40500.0      1.0    19.0   \n",
              "9         495.0    100.0          30000.0          45000.0      1.0    19.0   \n",
              "10       1072.5    110.0          71500.0         107250.0      4.0     1.0   \n",
              "\n",
              "   TABELA  \n",
              "0      RS  \n",
              "1      RS  \n",
              "2      SP  \n",
              "3      DF  \n",
              "4      RS  \n",
              "5      MG  \n",
              "6      SP  \n",
              "7      DF  \n",
              "8      PR  \n",
              "9      PR  \n",
              "10     MG  "
            ],
            "text/html": [
              "\n",
              "  <div id=\"df-a70fb60c-a523-4df1-9c53-e168209066e0\" class=\"colab-df-container\">\n",
              "    <div>\n",
              "<style scoped>\n",
              "    .dataframe tbody tr th:only-of-type {\n",
              "        vertical-align: middle;\n",
              "    }\n",
              "\n",
              "    .dataframe tbody tr th {\n",
              "        vertical-align: top;\n",
              "    }\n",
              "\n",
              "    .dataframe thead th {\n",
              "        text-align: right;\n",
              "    }\n",
              "</style>\n",
              "<table border=\"1\" class=\"dataframe\">\n",
              "  <thead>\n",
              "    <tr style=\"text-align: right;\">\n",
              "      <th></th>\n",
              "      <th>SKU</th>\n",
              "      <th>TITULO</th>\n",
              "      <th>MARCA</th>\n",
              "      <th>CATEGORIA</th>\n",
              "      <th>VALOR_CUSTO</th>\n",
              "      <th>PRECO_VISTA</th>\n",
              "      <th>PRECO_PRAZO</th>\n",
              "      <th>ESTOQUE</th>\n",
              "      <th>TOTAL_VLR_CUSTO</th>\n",
              "      <th>TOTAL_VLR_VENDA</th>\n",
              "      <th>Armazem</th>\n",
              "      <th>FILIAL</th>\n",
              "      <th>TABELA</th>\n",
              "    </tr>\n",
              "  </thead>\n",
              "  <tbody>\n",
              "    <tr>\n",
              "      <th>0</th>\n",
              "      <td>XYZ102030</td>\n",
              "      <td>Item 1</td>\n",
              "      <td>Amazon</td>\n",
              "      <td>Eletronico</td>\n",
              "      <td>300.0</td>\n",
              "      <td>450.0</td>\n",
              "      <td>495.0</td>\n",
              "      <td>10.0</td>\n",
              "      <td>3000.0</td>\n",
              "      <td>4500.0</td>\n",
              "      <td>1.0</td>\n",
              "      <td>18.0</td>\n",
              "      <td>RS</td>\n",
              "    </tr>\n",
              "    <tr>\n",
              "      <th>1</th>\n",
              "      <td>XYZ102031</td>\n",
              "      <td>Item 2</td>\n",
              "      <td>Apple</td>\n",
              "      <td>NaN</td>\n",
              "      <td>650.0</td>\n",
              "      <td>975.0</td>\n",
              "      <td>1072.5</td>\n",
              "      <td>20.0</td>\n",
              "      <td>13000.0</td>\n",
              "      <td>19500.0</td>\n",
              "      <td>1.0</td>\n",
              "      <td>18.0</td>\n",
              "      <td>RS</td>\n",
              "    </tr>\n",
              "    <tr>\n",
              "      <th>2</th>\n",
              "      <td>XYZ102032</td>\n",
              "      <td>Item 3</td>\n",
              "      <td>Google</td>\n",
              "      <td>Internet</td>\n",
              "      <td>900.0</td>\n",
              "      <td>1350.0</td>\n",
              "      <td>1485.0</td>\n",
              "      <td>30.0</td>\n",
              "      <td>27000.0</td>\n",
              "      <td>40500.0</td>\n",
              "      <td>2.0</td>\n",
              "      <td>17.0</td>\n",
              "      <td>SP</td>\n",
              "    </tr>\n",
              "    <tr>\n",
              "      <th>3</th>\n",
              "      <td>XYZ102033</td>\n",
              "      <td>Item 4</td>\n",
              "      <td>Microsoft</td>\n",
              "      <td>Software</td>\n",
              "      <td>6500.0</td>\n",
              "      <td>9750.0</td>\n",
              "      <td>10725.0</td>\n",
              "      <td>10.0</td>\n",
              "      <td>65000.0</td>\n",
              "      <td>97500.0</td>\n",
              "      <td>1.0</td>\n",
              "      <td>2.0</td>\n",
              "      <td>DF</td>\n",
              "    </tr>\n",
              "    <tr>\n",
              "      <th>4</th>\n",
              "      <td>XYZ102034</td>\n",
              "      <td>Item 5</td>\n",
              "      <td>NaN</td>\n",
              "      <td>Eletronico</td>\n",
              "      <td>650.0</td>\n",
              "      <td>975.0</td>\n",
              "      <td>1072.5</td>\n",
              "      <td>50.0</td>\n",
              "      <td>32500.0</td>\n",
              "      <td>48750.0</td>\n",
              "      <td>3.0</td>\n",
              "      <td>18.0</td>\n",
              "      <td>RS</td>\n",
              "    </tr>\n",
              "    <tr>\n",
              "      <th>5</th>\n",
              "      <td>XYZ102035</td>\n",
              "      <td>Item 6</td>\n",
              "      <td>Mastercard</td>\n",
              "      <td>Serviço</td>\n",
              "      <td>650.0</td>\n",
              "      <td>975.0</td>\n",
              "      <td>1072.5</td>\n",
              "      <td>60.0</td>\n",
              "      <td>39000.0</td>\n",
              "      <td>58500.0</td>\n",
              "      <td>1.0</td>\n",
              "      <td>1.0</td>\n",
              "      <td>MG</td>\n",
              "    </tr>\n",
              "    <tr>\n",
              "      <th>6</th>\n",
              "      <td>XYZ102036</td>\n",
              "      <td>Item 7</td>\n",
              "      <td>Google</td>\n",
              "      <td>Internet</td>\n",
              "      <td>990.0</td>\n",
              "      <td>1485.0</td>\n",
              "      <td>1633.5</td>\n",
              "      <td>70.0</td>\n",
              "      <td>69300.0</td>\n",
              "      <td>103950.0</td>\n",
              "      <td>1.0</td>\n",
              "      <td>17.0</td>\n",
              "      <td>SP</td>\n",
              "    </tr>\n",
              "    <tr>\n",
              "      <th>7</th>\n",
              "      <td>XYZ102037</td>\n",
              "      <td>Item 8</td>\n",
              "      <td>Microsoft</td>\n",
              "      <td>Software</td>\n",
              "      <td>650.0</td>\n",
              "      <td>975.0</td>\n",
              "      <td>1072.5</td>\n",
              "      <td>80.0</td>\n",
              "      <td>52000.0</td>\n",
              "      <td>78000.0</td>\n",
              "      <td>5.0</td>\n",
              "      <td>2.0</td>\n",
              "      <td>DF</td>\n",
              "    </tr>\n",
              "    <tr>\n",
              "      <th>8</th>\n",
              "      <td>XYZ102038</td>\n",
              "      <td>Item 9</td>\n",
              "      <td>Dove</td>\n",
              "      <td>Beleza</td>\n",
              "      <td>300.0</td>\n",
              "      <td>450.0</td>\n",
              "      <td>495.0</td>\n",
              "      <td>90.0</td>\n",
              "      <td>27000.0</td>\n",
              "      <td>40500.0</td>\n",
              "      <td>1.0</td>\n",
              "      <td>19.0</td>\n",
              "      <td>PR</td>\n",
              "    </tr>\n",
              "    <tr>\n",
              "      <th>9</th>\n",
              "      <td>ABC102039</td>\n",
              "      <td>Item 10</td>\n",
              "      <td>Dove</td>\n",
              "      <td>Beleza</td>\n",
              "      <td>300.0</td>\n",
              "      <td>450.0</td>\n",
              "      <td>495.0</td>\n",
              "      <td>100.0</td>\n",
              "      <td>30000.0</td>\n",
              "      <td>45000.0</td>\n",
              "      <td>1.0</td>\n",
              "      <td>19.0</td>\n",
              "      <td>PR</td>\n",
              "    </tr>\n",
              "    <tr>\n",
              "      <th>10</th>\n",
              "      <td>ABC102040</td>\n",
              "      <td>Item 11</td>\n",
              "      <td>Mastercard</td>\n",
              "      <td>Serviço</td>\n",
              "      <td>650.0</td>\n",
              "      <td>975.0</td>\n",
              "      <td>1072.5</td>\n",
              "      <td>110.0</td>\n",
              "      <td>71500.0</td>\n",
              "      <td>107250.0</td>\n",
              "      <td>4.0</td>\n",
              "      <td>1.0</td>\n",
              "      <td>MG</td>\n",
              "    </tr>\n",
              "  </tbody>\n",
              "</table>\n",
              "</div>\n",
              "    <div class=\"colab-df-buttons\">\n",
              "\n",
              "  <div class=\"colab-df-container\">\n",
              "    <button class=\"colab-df-convert\" onclick=\"convertToInteractive('df-a70fb60c-a523-4df1-9c53-e168209066e0')\"\n",
              "            title=\"Convert this dataframe to an interactive table.\"\n",
              "            style=\"display:none;\">\n",
              "\n",
              "  <svg xmlns=\"http://www.w3.org/2000/svg\" height=\"24px\" viewBox=\"0 -960 960 960\">\n",
              "    <path d=\"M120-120v-720h720v720H120Zm60-500h600v-160H180v160Zm220 220h160v-160H400v160Zm0 220h160v-160H400v160ZM180-400h160v-160H180v160Zm440 0h160v-160H620v160ZM180-180h160v-160H180v160Zm440 0h160v-160H620v160Z\"/>\n",
              "  </svg>\n",
              "    </button>\n",
              "\n",
              "  <style>\n",
              "    .colab-df-container {\n",
              "      display:flex;\n",
              "      gap: 12px;\n",
              "    }\n",
              "\n",
              "    .colab-df-convert {\n",
              "      background-color: #E8F0FE;\n",
              "      border: none;\n",
              "      border-radius: 50%;\n",
              "      cursor: pointer;\n",
              "      display: none;\n",
              "      fill: #1967D2;\n",
              "      height: 32px;\n",
              "      padding: 0 0 0 0;\n",
              "      width: 32px;\n",
              "    }\n",
              "\n",
              "    .colab-df-convert:hover {\n",
              "      background-color: #E2EBFA;\n",
              "      box-shadow: 0px 1px 2px rgba(60, 64, 67, 0.3), 0px 1px 3px 1px rgba(60, 64, 67, 0.15);\n",
              "      fill: #174EA6;\n",
              "    }\n",
              "\n",
              "    .colab-df-buttons div {\n",
              "      margin-bottom: 4px;\n",
              "    }\n",
              "\n",
              "    [theme=dark] .colab-df-convert {\n",
              "      background-color: #3B4455;\n",
              "      fill: #D2E3FC;\n",
              "    }\n",
              "\n",
              "    [theme=dark] .colab-df-convert:hover {\n",
              "      background-color: #434B5C;\n",
              "      box-shadow: 0px 1px 3px 1px rgba(0, 0, 0, 0.15);\n",
              "      filter: drop-shadow(0px 1px 2px rgba(0, 0, 0, 0.3));\n",
              "      fill: #FFFFFF;\n",
              "    }\n",
              "  </style>\n",
              "\n",
              "    <script>\n",
              "      const buttonEl =\n",
              "        document.querySelector('#df-a70fb60c-a523-4df1-9c53-e168209066e0 button.colab-df-convert');\n",
              "      buttonEl.style.display =\n",
              "        google.colab.kernel.accessAllowed ? 'block' : 'none';\n",
              "\n",
              "      async function convertToInteractive(key) {\n",
              "        const element = document.querySelector('#df-a70fb60c-a523-4df1-9c53-e168209066e0');\n",
              "        const dataTable =\n",
              "          await google.colab.kernel.invokeFunction('convertToInteractive',\n",
              "                                                    [key], {});\n",
              "        if (!dataTable) return;\n",
              "\n",
              "        const docLinkHtml = 'Like what you see? Visit the ' +\n",
              "          '<a target=\"_blank\" href=https://colab.research.google.com/notebooks/data_table.ipynb>data table notebook</a>'\n",
              "          + ' to learn more about interactive tables.';\n",
              "        element.innerHTML = '';\n",
              "        dataTable['output_type'] = 'display_data';\n",
              "        await google.colab.output.renderOutput(dataTable, element);\n",
              "        const docLink = document.createElement('div');\n",
              "        docLink.innerHTML = docLinkHtml;\n",
              "        element.appendChild(docLink);\n",
              "      }\n",
              "    </script>\n",
              "  </div>\n",
              "\n",
              "\n",
              "<div id=\"df-ae4d33e8-2a92-46a0-bde0-8d45cb47c1dd\">\n",
              "  <button class=\"colab-df-quickchart\" onclick=\"quickchart('df-ae4d33e8-2a92-46a0-bde0-8d45cb47c1dd')\"\n",
              "            title=\"Suggest charts\"\n",
              "            style=\"display:none;\">\n",
              "\n",
              "<svg xmlns=\"http://www.w3.org/2000/svg\" height=\"24px\"viewBox=\"0 0 24 24\"\n",
              "     width=\"24px\">\n",
              "    <g>\n",
              "        <path d=\"M19 3H5c-1.1 0-2 .9-2 2v14c0 1.1.9 2 2 2h14c1.1 0 2-.9 2-2V5c0-1.1-.9-2-2-2zM9 17H7v-7h2v7zm4 0h-2V7h2v10zm4 0h-2v-4h2v4z\"/>\n",
              "    </g>\n",
              "</svg>\n",
              "  </button>\n",
              "\n",
              "<style>\n",
              "  .colab-df-quickchart {\n",
              "      --bg-color: #E8F0FE;\n",
              "      --fill-color: #1967D2;\n",
              "      --hover-bg-color: #E2EBFA;\n",
              "      --hover-fill-color: #174EA6;\n",
              "      --disabled-fill-color: #AAA;\n",
              "      --disabled-bg-color: #DDD;\n",
              "  }\n",
              "\n",
              "  [theme=dark] .colab-df-quickchart {\n",
              "      --bg-color: #3B4455;\n",
              "      --fill-color: #D2E3FC;\n",
              "      --hover-bg-color: #434B5C;\n",
              "      --hover-fill-color: #FFFFFF;\n",
              "      --disabled-bg-color: #3B4455;\n",
              "      --disabled-fill-color: #666;\n",
              "  }\n",
              "\n",
              "  .colab-df-quickchart {\n",
              "    background-color: var(--bg-color);\n",
              "    border: none;\n",
              "    border-radius: 50%;\n",
              "    cursor: pointer;\n",
              "    display: none;\n",
              "    fill: var(--fill-color);\n",
              "    height: 32px;\n",
              "    padding: 0;\n",
              "    width: 32px;\n",
              "  }\n",
              "\n",
              "  .colab-df-quickchart:hover {\n",
              "    background-color: var(--hover-bg-color);\n",
              "    box-shadow: 0 1px 2px rgba(60, 64, 67, 0.3), 0 1px 3px 1px rgba(60, 64, 67, 0.15);\n",
              "    fill: var(--button-hover-fill-color);\n",
              "  }\n",
              "\n",
              "  .colab-df-quickchart-complete:disabled,\n",
              "  .colab-df-quickchart-complete:disabled:hover {\n",
              "    background-color: var(--disabled-bg-color);\n",
              "    fill: var(--disabled-fill-color);\n",
              "    box-shadow: none;\n",
              "  }\n",
              "\n",
              "  .colab-df-spinner {\n",
              "    border: 2px solid var(--fill-color);\n",
              "    border-color: transparent;\n",
              "    border-bottom-color: var(--fill-color);\n",
              "    animation:\n",
              "      spin 1s steps(1) infinite;\n",
              "  }\n",
              "\n",
              "  @keyframes spin {\n",
              "    0% {\n",
              "      border-color: transparent;\n",
              "      border-bottom-color: var(--fill-color);\n",
              "      border-left-color: var(--fill-color);\n",
              "    }\n",
              "    20% {\n",
              "      border-color: transparent;\n",
              "      border-left-color: var(--fill-color);\n",
              "      border-top-color: var(--fill-color);\n",
              "    }\n",
              "    30% {\n",
              "      border-color: transparent;\n",
              "      border-left-color: var(--fill-color);\n",
              "      border-top-color: var(--fill-color);\n",
              "      border-right-color: var(--fill-color);\n",
              "    }\n",
              "    40% {\n",
              "      border-color: transparent;\n",
              "      border-right-color: var(--fill-color);\n",
              "      border-top-color: var(--fill-color);\n",
              "    }\n",
              "    60% {\n",
              "      border-color: transparent;\n",
              "      border-right-color: var(--fill-color);\n",
              "    }\n",
              "    80% {\n",
              "      border-color: transparent;\n",
              "      border-right-color: var(--fill-color);\n",
              "      border-bottom-color: var(--fill-color);\n",
              "    }\n",
              "    90% {\n",
              "      border-color: transparent;\n",
              "      border-bottom-color: var(--fill-color);\n",
              "    }\n",
              "  }\n",
              "</style>\n",
              "\n",
              "  <script>\n",
              "    async function quickchart(key) {\n",
              "      const quickchartButtonEl =\n",
              "        document.querySelector('#' + key + ' button');\n",
              "      quickchartButtonEl.disabled = true;  // To prevent multiple clicks.\n",
              "      quickchartButtonEl.classList.add('colab-df-spinner');\n",
              "      try {\n",
              "        const charts = await google.colab.kernel.invokeFunction(\n",
              "            'suggestCharts', [key], {});\n",
              "      } catch (error) {\n",
              "        console.error('Error during call to suggestCharts:', error);\n",
              "      }\n",
              "      quickchartButtonEl.classList.remove('colab-df-spinner');\n",
              "      quickchartButtonEl.classList.add('colab-df-quickchart-complete');\n",
              "    }\n",
              "    (() => {\n",
              "      let quickchartButtonEl =\n",
              "        document.querySelector('#df-ae4d33e8-2a92-46a0-bde0-8d45cb47c1dd button');\n",
              "      quickchartButtonEl.style.display =\n",
              "        google.colab.kernel.accessAllowed ? 'block' : 'none';\n",
              "    })();\n",
              "  </script>\n",
              "</div>\n",
              "\n",
              "    </div>\n",
              "  </div>\n"
            ],
            "application/vnd.google.colaboratory.intrinsic+json": {
              "type": "dataframe",
              "variable_name": "dados",
              "summary": "{\n  \"name\": \"dados\",\n  \"rows\": 22,\n  \"fields\": [\n    {\n      \"column\": \"SKU\",\n      \"properties\": {\n        \"dtype\": \"string\",\n        \"num_unique_values\": 22,\n        \"samples\": [\n          \"XYZ102030\",\n          \"ABC102043\",\n          \"XYZ102038\"\n        ],\n        \"semantic_type\": \"\",\n        \"description\": \"\"\n      }\n    },\n    {\n      \"column\": \"TITULO\",\n      \"properties\": {\n        \"dtype\": \"string\",\n        \"num_unique_values\": 20,\n        \"samples\": [\n          \"Item 1\",\n          \"Item 18\",\n          \"Item 16\"\n        ],\n        \"semantic_type\": \"\",\n        \"description\": \"\"\n      }\n    },\n    {\n      \"column\": \"MARCA\",\n      \"properties\": {\n        \"dtype\": \"category\",\n        \"num_unique_values\": 8,\n        \"samples\": [\n          \"Apple\",\n          \"Dove\",\n          \"Amazon\"\n        ],\n        \"semantic_type\": \"\",\n        \"description\": \"\"\n      }\n    },\n    {\n      \"column\": \"CATEGORIA\",\n      \"properties\": {\n        \"dtype\": \"category\",\n        \"num_unique_values\": 7,\n        \"samples\": [\n          \"Eletronico\",\n          \"Internet\",\n          \"Entretenimento\"\n        ],\n        \"semantic_type\": \"\",\n        \"description\": \"\"\n      }\n    },\n    {\n      \"column\": \"VALOR_CUSTO\",\n      \"properties\": {\n        \"dtype\": \"number\",\n        \"std\": 3514.8925266193005,\n        \"min\": 100.0,\n        \"max\": 15000.0,\n        \"num_unique_values\": 9,\n        \"samples\": [\n          5500.0,\n          650.0,\n          15000.0\n        ],\n        \"semantic_type\": \"\",\n        \"description\": \"\"\n      }\n    },\n    {\n      \"column\": \"PRECO_VISTA\",\n      \"properties\": {\n        \"dtype\": \"number\",\n        \"std\": 5272.338789928951,\n        \"min\": 150.0,\n        \"max\": 22500.0,\n        \"num_unique_values\": 9,\n        \"samples\": [\n          8250.0,\n          975.0,\n          22500.0\n        ],\n        \"semantic_type\": \"\",\n        \"description\": \"\"\n      }\n    },\n    {\n      \"column\": \"PRECO_PRAZO\",\n      \"properties\": {\n        \"dtype\": \"number\",\n        \"std\": 5799.572668921847,\n        \"min\": 165.0,\n        \"max\": 24750.0,\n        \"num_unique_values\": 9,\n        \"samples\": [\n          9075.0,\n          1072.5,\n          24750.0\n        ],\n        \"semantic_type\": \"\",\n        \"description\": \"\"\n      }\n    },\n    {\n      \"column\": \"ESTOQUE\",\n      \"properties\": {\n        \"dtype\": \"number\",\n        \"std\": 65.09658815539939,\n        \"min\": 5.0,\n        \"max\": 200.0,\n        \"num_unique_values\": 18,\n        \"samples\": [\n          10.0,\n          20.0,\n          100.0\n        ],\n        \"semantic_type\": \"\",\n        \"description\": \"\"\n      }\n    },\n    {\n      \"column\": \"TOTAL_VLR_CUSTO\",\n      \"properties\": {\n        \"dtype\": \"number\",\n        \"std\": 38640.96919074365,\n        \"min\": 3000.0,\n        \"max\": 128000.0,\n        \"num_unique_values\": 19,\n        \"samples\": [\n          3000.0,\n          39000.0,\n          75000.0\n        ],\n        \"semantic_type\": \"\",\n        \"description\": \"\"\n      }\n    },\n    {\n      \"column\": \"TOTAL_VLR_VENDA\",\n      \"properties\": {\n        \"dtype\": \"number\",\n        \"std\": 57961.453786115475,\n        \"min\": 4500.0,\n        \"max\": 192000.0,\n        \"num_unique_values\": 19,\n        \"samples\": [\n          4500.0,\n          58500.0,\n          112500.0\n        ],\n        \"semantic_type\": \"\",\n        \"description\": \"\"\n      }\n    },\n    {\n      \"column\": \"Armazem\",\n      \"properties\": {\n        \"dtype\": \"number\",\n        \"std\": 2.939745782063118,\n        \"min\": 1.0,\n        \"max\": 9.0,\n        \"num_unique_values\": 6,\n        \"samples\": [\n          1.0,\n          2.0,\n          9.0\n        ],\n        \"semantic_type\": \"\",\n        \"description\": \"\"\n      }\n    },\n    {\n      \"column\": \"FILIAL\",\n      \"properties\": {\n        \"dtype\": \"number\",\n        \"std\": 8.077747210701755,\n        \"min\": 1.0,\n        \"max\": 20.0,\n        \"num_unique_values\": 6,\n        \"samples\": [\n          18.0,\n          17.0,\n          20.0\n        ],\n        \"semantic_type\": \"\",\n        \"description\": \"\"\n      }\n    },\n    {\n      \"column\": \"TABELA\",\n      \"properties\": {\n        \"dtype\": \"category\",\n        \"num_unique_values\": 6,\n        \"samples\": [\n          \"RS\",\n          \"SP\",\n          \"RJ\"\n        ],\n        \"semantic_type\": \"\",\n        \"description\": \"\"\n      }\n    }\n  ]\n}"
            }
          },
          "metadata": {},
          "execution_count": 25
        }
      ]
    },
    {
      "cell_type": "markdown",
      "source": [
        "##### Estrutura do DATASET\n"
      ],
      "metadata": {
        "id": "fTbbOhZBkMV4"
      }
    },
    {
      "cell_type": "code",
      "source": [
        "# O número total de linhas é 20 e o número total de colunas é 12.\n",
        "\n",
        "# Resultado: afirmativo. De acordo com a validação do arquivo XLSX que foi realizado antecipadamente a carga.\n",
        "\n",
        "dados.shape"
      ],
      "metadata": {
        "colab": {
          "base_uri": "https://localhost:8080/"
        },
        "id": "Ug-kS1945aT8",
        "outputId": "02ac17ae-31da-4ac0-abf9-b5690c9d371c"
      },
      "execution_count": 26,
      "outputs": [
        {
          "output_type": "execute_result",
          "data": {
            "text/plain": [
              "(22, 13)"
            ]
          },
          "metadata": {},
          "execution_count": 26
        }
      ]
    },
    {
      "cell_type": "markdown",
      "source": [
        "##### Análise de correções\n",
        "\n",
        "###### 1. Ajustes de atributos/campos (colunas) do dataset.\n",
        "\n",
        "###### 2. Linhas vazias e Limpeza.\n",
        "\n",
        "###### 3. Campos em branco e preenchimentos.\n",
        "\n",
        "###### 4. Acréscimos de campos matemáticos.\n"
      ],
      "metadata": {
        "id": "HRu-U_wtUwov"
      }
    },
    {
      "cell_type": "code",
      "source": [
        "# 1. Ajustes de atributos/campos (colunas) do dataset.\n",
        "\n",
        "# object: strings\n",
        "# int64: inteiros\n",
        "# float64: reais\n",
        "# complex: complexos\n",
        "\n",
        "# Resultado: Negativo. Observa-se que o atributo \"FILIAL\" precisa ser transformado para String.\n",
        "\n",
        "dados.dtypes"
      ],
      "metadata": {
        "colab": {
          "base_uri": "https://localhost:8080/"
        },
        "id": "YGLVQ3qr5dyR",
        "outputId": "95c670d2-c79a-4746-8d2a-8d1fab2bd1d6"
      },
      "execution_count": 27,
      "outputs": [
        {
          "output_type": "execute_result",
          "data": {
            "text/plain": [
              "SKU                 object\n",
              "TITULO              object\n",
              "MARCA               object\n",
              "CATEGORIA           object\n",
              "VALOR_CUSTO        float64\n",
              "PRECO_VISTA        float64\n",
              "PRECO_PRAZO        float64\n",
              "ESTOQUE            float64\n",
              "TOTAL_VLR_CUSTO    float64\n",
              "TOTAL_VLR_VENDA    float64\n",
              "Armazem            float64\n",
              "FILIAL             float64\n",
              "TABELA              object\n",
              "dtype: object"
            ]
          },
          "metadata": {},
          "execution_count": 27
        }
      ]
    },
    {
      "cell_type": "markdown",
      "source": [
        "##### Transformando o atributo \"PRECO_PRAZO\" para tipo \"inteiro\".\n"
      ],
      "metadata": {
        "id": "4sCCehqId4eC"
      }
    },
    {
      "cell_type": "code",
      "source": [
        "# Com a biblioteca Pandas carregada antecipadamente, realizei a ação abaixo:\n",
        "\n",
        "# Convertendo para int64\n",
        "dados['FILIAL'] = dados['FILIAL'].astype('object')\n",
        "\n",
        "# Após a conversão\n",
        "print(dados.dtypes)\n",
        "\n",
        "# Resultado: Positivo. O campo \"FILIAL\" passou ao tipo Object = string."
      ],
      "metadata": {
        "colab": {
          "base_uri": "https://localhost:8080/"
        },
        "id": "S1ctr8_ldXgf",
        "outputId": "c793b52e-fd8c-44f8-dfcb-722a2a1e5f9c"
      },
      "execution_count": 28,
      "outputs": [
        {
          "output_type": "stream",
          "name": "stdout",
          "text": [
            "SKU                 object\n",
            "TITULO              object\n",
            "MARCA               object\n",
            "CATEGORIA           object\n",
            "VALOR_CUSTO        float64\n",
            "PRECO_VISTA        float64\n",
            "PRECO_PRAZO        float64\n",
            "ESTOQUE            float64\n",
            "TOTAL_VLR_CUSTO    float64\n",
            "TOTAL_VLR_VENDA    float64\n",
            "Armazem            float64\n",
            "FILIAL              object\n",
            "TABELA              object\n",
            "dtype: object\n"
          ]
        }
      ]
    }
  ]
}