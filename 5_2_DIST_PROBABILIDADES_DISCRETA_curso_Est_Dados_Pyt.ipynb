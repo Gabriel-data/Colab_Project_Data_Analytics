{
  "nbformat": 4,
  "nbformat_minor": 0,
  "metadata": {
    "colab": {
      "provenance": [],
      "mount_file_id": "1XzN-rBTyIkDJPOMDjJM5hok9NDFo6N0v",
      "authorship_tag": "ABX9TyOd5mF3k4/xGFye2bfLzE72",
      "include_colab_link": true
    },
    "kernelspec": {
      "name": "python3",
      "display_name": "Python 3"
    },
    "language_info": {
      "name": "python"
    }
  },
  "cells": [
    {
      "cell_type": "markdown",
      "metadata": {
        "id": "view-in-github",
        "colab_type": "text"
      },
      "source": [
        "<a href=\"https://colab.research.google.com/github/Gabriel-data/Colab/blob/main/5_2_DIST_PROBABILIDADES_DISCRETA_curso_Est_Dados_Pyt.ipynb\" target=\"_parent\"><img src=\"https://colab.research.google.com/assets/colab-badge.svg\" alt=\"Open In Colab\"/></a>"
      ]
    },
    {
      "cell_type": "markdown",
      "metadata": {
        "id": "o1l_Hn4Y205Y"
      },
      "source": [
        "# **Distribuição Discreta**"
      ]
    },
    {
      "cell_type": "code",
      "metadata": {
        "id": "KyCE-Wmy24Uv"
      },
      "source": [
        "import numpy as np\n",
        "import pandas as pd"
      ],
      "execution_count": 24,
      "outputs": []
    },
    {
      "cell_type": "code",
      "source": [
        "from google.colab import drive\n",
        "drive.mount('/content/drive')"
      ],
      "metadata": {
        "colab": {
          "base_uri": "https://localhost:8080/"
        },
        "id": "rQxJuH75FTzA",
        "outputId": "f92c2798-e2b6-4588-f68f-7564f9853640"
      },
      "execution_count": 25,
      "outputs": [
        {
          "output_type": "stream",
          "name": "stdout",
          "text": [
            "Drive already mounted at /content/drive; to attempt to forcibly remount, call drive.mount(\"/content/drive\", force_remount=True).\n"
          ]
        }
      ]
    },
    {
      "cell_type": "code",
      "metadata": {
        "id": "GMQGhQnt3B8-"
      },
      "source": [
        "enem_sp = pd.read_csv('/content/drive/MyDrive/Colab Notebooks/Arquivos/curso_Est_Dados_Python_3-2024/A20_Amostragem_simples/enem_2019_tratado (2).csv',\n",
        "                      sep=',', encoding='iso-8859-1')"
      ],
      "execution_count": 26,
      "outputs": []
    },
    {
      "cell_type": "markdown",
      "metadata": {
        "id": "sX7FY6UX61QV"
      },
      "source": [
        "## Distribuição Binomial"
      ]
    },
    {
      "cell_type": "code",
      "metadata": {
        "id": "6HNMC-mQ2zVa"
      },
      "source": [
        "from scipy.stats import binom"
      ],
      "execution_count": 9,
      "outputs": []
    },
    {
      "cell_type": "code",
      "metadata": {
        "id": "44vb3Ow_8VSi"
      },
      "source": [
        "# PROBABILIDADE DE RETIRAR UMA MULHER\n",
        "mulher_enem = enem_sp.loc[enem_sp.SEXO == 'F']"
      ],
      "execution_count": 10,
      "outputs": []
    },
    {
      "cell_type": "code",
      "metadata": {
        "colab": {
          "base_uri": "https://localhost:8080/"
        },
        "id": "NeE5KHytQkRS",
        "outputId": "f434dec0-f29e-4c4b-90d5-f8e1fda08386"
      },
      "source": [
        "p = len(mulher_enem) / len(enem_sp)\n",
        "p"
      ],
      "execution_count": 11,
      "outputs": [
        {
          "output_type": "execute_result",
          "data": {
            "text/plain": [
              "0.5803136376365163"
            ]
          },
          "metadata": {},
          "execution_count": 11
        }
      ]
    },
    {
      "cell_type": "markdown",
      "metadata": {
        "id": "CI9vWO8M9h-2"
      },
      "source": [
        "binom.pmf = valor pontual\n",
        "\n",
        "binom.cdf = faixa de valores (acumulada)"
      ]
    },
    {
      "cell_type": "code",
      "metadata": {
        "colab": {
          "base_uri": "https://localhost:8080/"
        },
        "id": "Mts7Oo6A9NH_",
        "outputId": "bcc4a038-fd11-429e-c827-13e812a9a2b4"
      },
      "source": [
        "# PROBABILIDADE DE RETIRAR EXATAMENTE 4 MULHERES NUM TOTAL DE 10 AMOSTRAS\n",
        "\n",
        "binom.pmf(4,10,p)\n",
        "\n",
        "# Primeiro parâmetro:valor ou limite que se está pretendo calcular\n",
        "# Segundo: número de tentativas\n",
        "# Terceiro: probabilidade de um sucesso."
      ],
      "execution_count": 12,
      "outputs": [
        {
          "output_type": "execute_result",
          "data": {
            "text/plain": [
              "0.13014261971434243"
            ]
          },
          "metadata": {},
          "execution_count": 12
        }
      ]
    },
    {
      "cell_type": "code",
      "metadata": {
        "colab": {
          "base_uri": "https://localhost:8080/"
        },
        "id": "HvOI10drC_GF",
        "outputId": "dcded0bf-a18b-4f2d-d775-f41a66abb235"
      },
      "source": [
        "# PROBABILIDADE DE RETIRAR PELO MENOS UMA MULHER NUM TOTAL DE 10 AMOSTRAS\n",
        "\n",
        "p0 = 1 - binom.pmf(0,10,p)\n",
        "p0"
      ],
      "execution_count": 13,
      "outputs": [
        {
          "output_type": "execute_result",
          "data": {
            "text/plain": [
              "0.9998304692157152"
            ]
          },
          "metadata": {},
          "execution_count": 13
        }
      ]
    },
    {
      "cell_type": "code",
      "metadata": {
        "colab": {
          "base_uri": "https://localhost:8080/"
        },
        "id": "NQ52M4UPDbdq",
        "outputId": "9a7c1256-be9d-4e5f-f996-76e818ce331a"
      },
      "source": [
        "# PROBABILIDADE DE RETIRAR MAIS DO QUE 1 MULHER NUM TOTAL DE 10 AMOSTRAS\n",
        "p1 = 1 - (binom.pmf(0,10,p)+binom.pmf(1,10,p))\n",
        "p1"
      ],
      "execution_count": 14,
      "outputs": [
        {
          "output_type": "execute_result",
          "data": {
            "text/plain": [
              "0.997486313318782"
            ]
          },
          "metadata": {},
          "execution_count": 14
        }
      ]
    },
    {
      "cell_type": "code",
      "metadata": {
        "id": "B83PrmCcDxbj"
      },
      "source": [
        "# PROBABILIDADE DE RETIRAR MAIS DO QUE 3 MULHERES NUM TOTAL DE 10 AMOSTRAS\n",
        "\n",
        "p2p2 = 1 - (binom.pmf(0,10,p)+binom.pmf(1,10,p)+binom.pmf(2,10,p)+binom.pmf(3,10,p))"
      ],
      "execution_count": 15,
      "outputs": []
    },
    {
      "cell_type": "code",
      "metadata": {
        "colab": {
          "base_uri": "https://localhost:8080/"
        },
        "id": "Yf_QuuZKMUNB",
        "outputId": "0488cc73-f8bc-4437-c45b-b165b303b225"
      },
      "source": [
        "p2 = binom.pmf(4,10,p)+binom.pmf(5,10,p)+binom.pmf(6,10,p)+binom.pmf(7,10,p)+binom.pmf(8,10,p)+binom.pmf(9,10,p)+binom.pmf(10,10,p)\n",
        "p2"
      ],
      "execution_count": 16,
      "outputs": [
        {
          "output_type": "execute_result",
          "data": {
            "text/plain": [
              "0.9291174685122046"
            ]
          },
          "metadata": {},
          "execution_count": 16
        }
      ]
    },
    {
      "cell_type": "code",
      "metadata": {
        "colab": {
          "base_uri": "https://localhost:8080/"
        },
        "id": "qrc8OWVdEGSS",
        "outputId": "79122292-5974-4e77-b2cd-dd394be9b37a"
      },
      "source": [
        "# OUTRA FORMA\n",
        "p3 = 1 - binom.cdf(3, 10, p)\n",
        "p3"
      ],
      "execution_count": 17,
      "outputs": [
        {
          "output_type": "execute_result",
          "data": {
            "text/plain": [
              "0.929117468512205"
            ]
          },
          "metadata": {},
          "execution_count": 17
        }
      ]
    },
    {
      "cell_type": "code",
      "metadata": {
        "colab": {
          "base_uri": "https://localhost:8080/"
        },
        "id": "Qblfs10VFjuv",
        "outputId": "be85df98-2f60-4b6a-dd1b-b52569965009"
      },
      "source": [
        "# PROBABILIDADE DE RETIRAR MAIS DO QUE 8 MULHERES NUM TOTAL DE 10 AMOSTRAS\n",
        "p4 = binom.pmf(9,10,p)+binom.pmf(10,10,p)\n",
        "p4\n"
      ],
      "execution_count": 18,
      "outputs": [
        {
          "output_type": "execute_result",
          "data": {
            "text/plain": [
              "0.0356563059595738"
            ]
          },
          "metadata": {},
          "execution_count": 18
        }
      ]
    },
    {
      "cell_type": "code",
      "metadata": {
        "colab": {
          "base_uri": "https://localhost:8080/"
        },
        "id": "hZOwxY22F17D",
        "outputId": "cb046363-9829-4a1d-9b99-c114995d2b83"
      },
      "source": [
        "# OUTRA FORMA\n",
        "p5 = binom.cdf(10, 10, p) - binom.cdf(8, 10, p)\n",
        "p5"
      ],
      "execution_count": 19,
      "outputs": [
        {
          "output_type": "execute_result",
          "data": {
            "text/plain": [
              "0.03565630595957381"
            ]
          },
          "metadata": {},
          "execution_count": 19
        }
      ]
    },
    {
      "cell_type": "markdown",
      "metadata": {
        "id": "nvMHLvJfIoDf"
      },
      "source": [
        "## Distribuição Geométrica"
      ]
    },
    {
      "cell_type": "code",
      "metadata": {
        "id": "IR1g2RkFI5ER"
      },
      "source": [
        "from scipy.stats import geom"
      ],
      "execution_count": 20,
      "outputs": []
    },
    {
      "cell_type": "code",
      "metadata": {
        "colab": {
          "base_uri": "https://localhost:8080/"
        },
        "id": "Ft7_jnHaI7J8",
        "outputId": "cb5ae24a-93e8-41cb-ccc7-f2836a567184"
      },
      "source": [
        "# PROBABILIDADE DE RETIRAR 3 AMOSTRAS E NENHUMA SER MULHER\n",
        "# geom.pmf(x,p) x representa a tentativa que se obteve sucesso e p a probabilidade\n",
        "geom.pmf(4, p)\n",
        "\n"
      ],
      "execution_count": 21,
      "outputs": [
        {
          "output_type": "execute_result",
          "data": {
            "text/plain": [
              "0.042898029955685306"
            ]
          },
          "metadata": {},
          "execution_count": 21
        }
      ]
    },
    {
      "cell_type": "markdown",
      "metadata": {
        "id": "ipFZGhUYGGq8"
      },
      "source": [
        "## Distribuição de Poisson"
      ]
    },
    {
      "cell_type": "code",
      "metadata": {
        "id": "v-f6tec8GF2L"
      },
      "source": [
        "from scipy.stats import poisson"
      ],
      "execution_count": 22,
      "outputs": []
    },
    {
      "cell_type": "code",
      "metadata": {
        "colab": {
          "base_uri": "https://localhost:8080/"
        },
        "id": "q6f8mGj5Huw4",
        "outputId": "7ab99aea-657c-42b8-993e-67a1646fb6f3"
      },
      "source": [
        "# Num local de prova, 100 vestibulandos, normalmente, terminaram a prova em 2 horas (tempo mínimo).\n",
        "# Probabilidade de exatamente 90 vestibulandos terminarem a prova em 2h.\n",
        "\n",
        "# poisson.pmf(x, m) x é a quantidade de ocorrências EM ESTUDO e m é a taxa de ocorrências.\n",
        "\n",
        "poisson.pmf(90,100)"
      ],
      "execution_count": 23,
      "outputs": [
        {
          "output_type": "execute_result",
          "data": {
            "text/plain": [
              "0.025038944623030353"
            ]
          },
          "metadata": {},
          "execution_count": 23
        }
      ]
    }
  ]
}